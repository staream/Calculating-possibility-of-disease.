{
 "cells": [
  {
   "cell_type": "markdown",
   "id": "67bbdf1b",
   "metadata": {},
   "source": [
    "가래:https://www.amc.seoul.kr/asan/healthinfo/symptom/symptomDetail.do?symptomId=SS000859\n",
    "https://www.amc.seoul.kr/asan/healthinfo/symptom/symptomDetail.do?symptomId=SS000860\n",
    "거품이 섞인 소변https://www.amc.seoul.kr/asan/healthinfo/symptom/symptomDetail.do?symptomId=SS000864\n",
    "\n",
    "\n",
    "흉수 : https://www.amc.seoul.kr/asan/healthinfo/symptom/symptomDetail.do?symptomId=SS000914"
   ]
  },
  {
   "cell_type": "code",
   "execution_count": 46,
   "id": "95ab68ee",
   "metadata": {
    "scrolled": true
   },
   "outputs": [
    {
     "name": "stdout",
     "output_type": "stream",
     "text": [
      "{('가래',): ['기관지나 폐에서 나오는 분비물'], ('가슴 답답',): ['가슴 및 명치 부위의 답답한 느낌'], ('가슴 두근거림',): ['여러가지 원인에 의해 심장이 빨리 뛰는 것처럼 느껴져 불쾌한 기분이 드는 증상'], ('가슴 통증',): ['여러가지 원인에 의해 가슴 부위에 나타나는 통증'], ('객혈',): ['혈액이 섞인 가래가 기침과 함께 나오는 것'], ('거품이 섞인 가래',): ['기관지나 폐에서 나오는 거품과 같은 분비물'], ('검은색 가래',): ['탄가루같은 검은 물질이 섞인 검은색의 가래'], ('겨드랑이 악취 ',): ['겨드랑이에서 나는 나쁜 냄새'], ('과호흡',): ['여러가지 원인에 의해 호흡수가 많아지고 이산화탄소 배출이 증가한 상태'], ('기침',): ['기도 분비물이나 외부 먼지, 미생물 등을 제거하기 위해 갑작스럽게 숨을 내뿜는 반사 행동'], ('늑막삼출',): ['폐를 둘러싸고 있는 두겹의 늑막 사이 공간에 액체가 고이는 상태'], ('무호흡',): ['호흡이 없음'], ('반복되는 폐렴',): ['폐렴에 여러 번 반복해서 걸림\\xa0'], ('부정맥',): ['정상보다 느리거나 빠르거나 불규칙하게 뛰는 맥박\\xa0'], ('불규칙호흡',): ['들숨과 날숨이 불규칙적으로 관찰됨'], ('빈맥',): ['심장이 비정상으로 빨리 뛰는 것'], ('빈호흡',): ['호흡 횟수가 비정상적으로 증가한 상태'], ('사래걸림',): ['기도, 기관지, 폐로 이물질을 들여마셔 나타나는 기침 등의 호흡기 반응'], ('새가슴',): ['흉골이 기형적으로 과도하게 돌출된 상태'], ('서맥',): ['심장박동이 느린 것'], ('서호흡',): ['느린 호흡'], ('수면 무호흡',): ['잠자는 동안에 숨쉬기를 멈추는 것'], ('숨막히는 느낌',): ['숨쉬기가 힘든 느낌'], ('심근손상',): ['외상이나 허혈, 염증 등의 원인에 의해 심장을 구성하는 근육 조직에 손상이 있는 상태'], ('심방 부정맥',): ['심장은 좌우 두개의 심방과 심실로 구성이 되며 심장 근육의 전기적 자극에 의해 수축과 이완을 한다. 이때 정상 전도로가 아닌 심방 조직에서 전기적 신호가 발생하거나 전달에 이상이 있는 경우를 심방 부정맥이라고 한다.'], ('심부전',): ['심장이 정상적으로 기능을 하지 못하는 것'], ('심실 부정맥',): ['심장은 좌우 두개의 심방과 심실로 구성이 되며 심장 근육의 전기적 자극에 의해 수축과 이완을 한다. 이때 정상 전도로가 아닌 심실 조직에서 전기적 신호가 발생하거나 전달에 이상이 있는 경우를 심실 부정맥이라고 한다.'], ('심실세동',): ['하나 이상의 빠르게 흥분하는 이소성 병소들에 의해 심실이 1분에 350~600회의 박동으로 무질서하게 뛰는 상태'], ('심염',): ['심장을 구성하는 심내막, 심근, 심외막, 판막 등의 조직에 염증이 생긴 상태'], ('심음 감소',): ['심장 청진 시 심장 판막이 닫힐 때 나는 소리가 감소된 상태'], ('심인성 쇼크',): ['심장 기능이 감소하여 말초순환에 기능 이상이 생긴 상태'], ('심잡음',): ['심장의 혈류가 판막이나 혈관을 지날 때 들리는 비정상적인 소리'], ('심정지',): ['심장 박동이 멈춘 상태'], ('운동 시 호흡곤란',): ['걷거나 운동 시 숨쉬기가 어렵고 힘든 상태'], ('울혈성 심부전',): ['다양한 원인에 의해 심장이 신체에 필요한 혈액을 충분히 공급하지 못하는 심장 기능 저하 상태'], ('잦은 딸꾹질',): ['횡격막 수축 시 성문이 닫히는 소리인 딸국질이 자주 발생함'], ('저심박출량',): ['심장 이완 시 심방으로 유입되는 혈액량이 줄어들거나 전체 혈액순환량이 감소하는 등의 원인에 의해 심장 수축 시 박출되는 혈액량이 적은 상태'], ('질식',): ['기도를 통한 공기의 흐름이 차단되어 폐의 호흡작용에 장애가 온 상태'], ('천명음',): ['기도가 좁아져서 숨을 내쉴 때 쌕쌕 또는 그렁그렁하는 호흡음'], ('천식',): ['기관지가 좁아져서 숨이 차고, 기침이 나며, 가슴에서 색색거리는 소리가 들리며, 가슴이 답답해지는 증상'], ('청진시 휘파람 소리',): ['청진기로 폐 청진시 휘파람 부는 소리가 남'], ('폐기능저하',): ['숨을 쉬고 내쉬는 등의 폐기능이 떨어진 상태'], ('폐동맥 고혈압',): ['폐에 혈액을 공급하는 폐동맥에 이상이 생겨 폐동맥의 혈압이 상승하는 질환'], ('폐부종',): ['폐조직에 지나친 양의 체액이 쌓여 호흡이 곤란해지는 상태'], ('폐색전',): ['정맥에서 형성된 피떡(혈전)이 혈관을 따라 이동하다 폐동맥을 막아 폐순환이 좁아지거나 막힌 상태'], ('폐출혈',): ['외상이나 폐조직 손상에 의해 폐에 출혈이 있는 상태'], ('함몰가슴',): ['갈비뼈의 이상 발달로 흉벽이 움푹 패여 과도하게 함몰된 기형'], ('헛기침',): ['가래를 배출하지 않는 기침. 호흡을 효율적으로 하기 위해 기도의 이물질을 밖으로 배출하려는 방어적 반사작용.'], ('호기의 증가',): ['숨을 내쉬는 시간의 증가'], ('호흡곤란',): ['숨쉬기 힘듦'], ('호흡기감염',): ['기도, 기관지, 폐 등 호흡기계에 생긴 감염증'], ('화농성 객담',): ['고름 형태의 가래'], ('흉곽 팽윤',): ['흉곽이 부피가 커짐'], ('흉부압박감',): ['가슴을 무겁게 누르거나 꽉 조이는 느낌'], ('흉쇄 유돌근의 몽우리',): ['흉쇄 유돌근에서 만져지는 덩어리'], ('흉수',): ['흉막강 사이에 생긴 비정상적으로 고인 액체\\xa0']}\n"
     ]
    }
   ],
   "source": [
    "from bs4 import BeautifulSoup\n",
    "import requests\n",
    "\n",
    "\n",
    "chest_symptom_description=dict()\n",
    "for i in range(859,915):\n",
    "    url1=f\"https://www.amc.seoul.kr/asan/healthinfo/symptom/symptomDetail.do?symptomId=SS000{i}\"\n",
    "    #url1=f\"https://www.amc.seoul.kr/asan/healthinfo/symptom/symptomDetail.do?symptomId=SS000859\"\n",
    "    response1 = requests.get(url1)\n",
    "    html = response1.text\n",
    "    soup=BeautifulSoup(html,'html.parser')\n",
    "    symp_2= soup.select('div> div.popContent >div> p')#span')\n",
    "    #\n",
    "    if(symp_2==[]):\n",
    "        symp_2= soup.select('div>table> tbody >tr>td')\n",
    "        #print(symp_2)\n",
    "    \n",
    "    symp_defi=soup.select('div> div >h1>span')\n",
    "    symptom_name1=[element.get_text() for element in symp_2]\n",
    "    definition_symptom1=[element.get_text() for element in symp_defi]\n",
    "    key_tuple=tuple( definition_symptom1)\n",
    "    chest_symptom_description[ key_tuple]=symptom_name1\n",
    "    \n",
    "    #for j in definition_symptom1:\n",
    "    #    chest_symptom_name.append(j)\n",
    "    #for k in \n",
    "    #for k in symptom_name1:\n",
    "    #    chest_definition_symptom.append(k)\n",
    "\n",
    "\n",
    "print(chest_symptom_description)"
   ]
  },
  {
   "cell_type": "markdown",
   "id": "52135b6b",
   "metadata": {},
   "source": [
    "락스를 마셨어요 https://www.amc.seoul.kr/asan/healthinfo/symptom/symptomDetail.do?symptomId=SS00939\n",
    "염산, 황산을 마셨어요 https://www.amc.seoul.kr/asan/healthinfo/symptom/symptomDetail.do?symptomId=SS00946\n",
    "폐기능 저하 : https://www.amc.seoul.kr/asan/healthinfo/symptom/symptomDetail.do?symptomId=SS000900\n",
    "폐동맥 고혈압 : https://www.amc.seoul.kr/asan/healthinfo/symptom/symptomDetail.do?symptomId=SS000901\n",
    "흉곽 팽윤 : https://www.amc.seoul.kr/asan/healthinfo/symptom/symptomDetail.do?symptomId=SS000911\n",
    "흉부압박감 : https://www.amc.seoul.kr/asan/healthinfo/symptom/symptomDetail.do?symptomId=SS000912\n",
    "흉쇄 유돌근의 몽우리 : https://www.amc.seoul.kr/asan/healthinfo/symptom/symptomDetail.do?symptomId=SS000913"
   ]
  },
  {
   "cell_type": "markdown",
   "id": "da7dc6c8",
   "metadata": {},
   "source": [
    "#질병의 정의와 이름을 모아놓은 것\n",
    "chest_definition_symptoms=[]\n",
    "chest_symptom_names=[]\n",
    "chest_symptom_describes=dict()\n",
    "for i in range(859,915):\n",
    "    url1=f\"https://www.amc.seoul.kr/asan/healthinfo/symptom/symptomDetail.do?symptomId=SS000{i}\"\n",
    "    #url1=f\"https://www.amc.seoul.kr/asan/healthinfo/symptom/symptomDetail.do?symptomId=SS000859\"\n",
    "    response1 = requests.get(url1)\n",
    "    html = response1.text\n",
    "    soup=BeautifulSoup(html,'html.parser')\n",
    "    symp_2= soup.select('div> div.popContent >div> p')#span')\n",
    "    symp_defi=soup.select('div> div >h1>span')\n",
    "    symptom_name1=[element.get_text() for element in symp_2]\n",
    "    definition_symptom1=[element.get_text() for element in symp_defi]\n",
    "    for j in definition_symptom1:\n",
    "        chest_symptom_names.append(j)\n",
    "    for k in symptom_name1:\n",
    "        chest_definition_symptoms.append(k)\n",
    "    #for k in \n",
    "    #for k in range(0,len(chest_symptom_name)-1):\n",
    "print(chest_symptom_name)\n",
    "print(len(chest_symptom_names))\n",
    "        #chest_symptom_describe[chest_symptom_name[k]]=chest_symptom_describe[k]\n",
    "#chest_symptom_describe\n",
    "print(len(chest_definition_symptoms))"
   ]
  },
  {
   "cell_type": "code",
   "execution_count": null,
   "id": "5b2a6fee",
   "metadata": {},
   "outputs": [],
   "source": [
    "#a_1= soup.select('#listForm > div > div > ul > li > div.contBox > strong > a')\n",
    "#for i in a_1:\n",
    "#    print(i.get_text())\n",
    "#text_list=[element.get_text() for element in a_1]\n",
    "#print(text_list)\n",
    "#count=len(text_list)\n",
    "#print(count)\n",
    "# list의 항목마다 dictionary key로 쓰려고 한다."
   ]
  },
  {
   "cell_type": "code",
   "execution_count": null,
   "id": "6fd99fe9",
   "metadata": {},
   "outputs": [],
   "source": [
    "#chest_symptoms_all=dict()\n",
    "#for a in range(0,count):\n",
    "#    a_증상= soup.select(f'#listForm > div > div > ul > li:nth-child({a+1}) > div.contBox > dl > dd:nth-child(2) > a')\n",
    "#    text_list_1=[element.get_text() for element in a_증상]\n",
    "#    chest_symptoms_all[text_list[a]]=text_list_1\n",
    "#print(chest_symptoms_all)\n",
    "    # 계속 나오는 리스트는 dict의 value로 사용하려고 한다."
   ]
  }
 ],
 "metadata": {
  "kernelspec": {
   "display_name": "Python 3 (ipykernel)",
   "language": "python",
   "name": "python3"
  },
  "language_info": {
   "codemirror_mode": {
    "name": "ipython",
    "version": 3
   },
   "file_extension": ".py",
   "mimetype": "text/x-python",
   "name": "python",
   "nbconvert_exporter": "python",
   "pygments_lexer": "ipython3",
   "version": "3.9.13"
  }
 },
 "nbformat": 4,
 "nbformat_minor": 5
}
